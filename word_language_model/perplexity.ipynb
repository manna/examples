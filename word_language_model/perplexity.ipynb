{
 "cells": [
  {
   "cell_type": "code",
   "execution_count": 57,
   "metadata": {},
   "outputs": [
    {
     "data": {
      "text/plain": [
       "'0.4.0'"
      ]
     },
     "execution_count": 57,
     "metadata": {},
     "output_type": "execute_result"
    }
   ],
   "source": [
    "import torch\n",
    "torch.__version__"
   ]
  },
  {
   "cell_type": "code",
   "execution_count": null,
   "metadata": {
    "collapsed": true
   },
   "outputs": [],
   "source": []
  },
  {
   "cell_type": "code",
   "execution_count": 74,
   "metadata": {
    "collapsed": true
   },
   "outputs": [],
   "source": [
    "def perplexity(primer, checkpoint='./glowbe-model@100.pt', data='./data/glowbe'):\n",
    "    !echo \"<eos> $primer\" > \"$data\"/test.txt\n",
    "    !cat \"$data\"/test.txt\n",
    "    %run main.py --save $checkpoint --cuda --data $data --epochs 0 --eval_batch_size 1"
   ]
  },
  {
   "cell_type": "code",
   "execution_count": 75,
   "metadata": {},
   "outputs": [
    {
     "name": "stdout",
     "output_type": "stream",
     "text": [
      "<eos> My nurse is herself\n",
      "=========================================================================================\n",
      "| End of training | test loss  7.31 | test ppl  1496.85\n",
      "=========================================================================================\n",
      "<eos> My nurse is himself\n",
      "=========================================================================================\n",
      "| End of training | test loss  7.37 | test ppl  1592.01\n",
      "=========================================================================================\n"
     ]
    }
   ],
   "source": [
    "perplexity(\"My nurse is herself\")\n",
    "\n",
    "perplexity(\"My nurse is himself\")"
   ]
  },
  {
   "cell_type": "code",
   "execution_count": 76,
   "metadata": {},
   "outputs": [
    {
     "name": "stdout",
     "output_type": "stream",
     "text": [
      "<eos> My housekeeper herself\n",
      "=========================================================================================\n",
      "| End of training | test loss  8.52 | test ppl  5032.81\n",
      "=========================================================================================\n",
      "<eos> My housekeeper himself\n",
      "=========================================================================================\n",
      "| End of training | test loss  7.99 | test ppl  2965.64\n",
      "=========================================================================================\n"
     ]
    }
   ],
   "source": [
    "perplexity(\"My housekeeper herself\")\n",
    "\n",
    "perplexity(\"My housekeeper himself\")"
   ]
  },
  {
   "cell_type": "code",
   "execution_count": 77,
   "metadata": {},
   "outputs": [
    {
     "name": "stdout",
     "output_type": "stream",
     "text": [
      "<eos> My wife herself\n",
      "=========================================================================================\n",
      "| End of training | test loss  7.27 | test ppl  1431.87\n",
      "=========================================================================================\n",
      "<eos> My wife himself\n",
      "=========================================================================================\n",
      "| End of training | test loss  6.81 | test ppl   902.72\n",
      "=========================================================================================\n"
     ]
    }
   ],
   "source": [
    "perplexity(\"My wife herself\")\n",
    "\n",
    "perplexity(\"My wife himself\")"
   ]
  },
  {
   "cell_type": "code",
   "execution_count": 78,
   "metadata": {},
   "outputs": [
    {
     "name": "stdout",
     "output_type": "stream",
     "text": [
      "<eos> She herself\n",
      "=========================================================================================\n",
      "| End of training | test loss  7.68 | test ppl  2157.93\n",
      "=========================================================================================\n",
      "<eos> She himself\n",
      "=========================================================================================\n",
      "| End of training | test loss  7.36 | test ppl  1576.58\n",
      "=========================================================================================\n"
     ]
    }
   ],
   "source": [
    "perplexity(\"She herself\")\n",
    "\n",
    "perplexity(\"She himself\")"
   ]
  },
  {
   "cell_type": "code",
   "execution_count": 79,
   "metadata": {},
   "outputs": [
    {
     "name": "stdout",
     "output_type": "stream",
     "text": [
      "<eos> He himself\n",
      "=========================================================================================\n",
      "| End of training | test loss  6.69 | test ppl   805.49\n",
      "=========================================================================================\n",
      "<eos> He herself\n",
      "=========================================================================================\n",
      "| End of training | test loss  7.02 | test ppl  1118.73\n",
      "=========================================================================================\n"
     ]
    }
   ],
   "source": [
    "perplexity(\"He himself\")\n",
    "\n",
    "perplexity(\"He herself\")"
   ]
  },
  {
   "cell_type": "code",
   "execution_count": 80,
   "metadata": {},
   "outputs": [
    {
     "name": "stdout",
     "output_type": "stream",
     "text": [
      "<eos> She is a doctor\n",
      "=========================================================================================\n",
      "| End of training | test loss  5.62 | test ppl   275.77\n",
      "=========================================================================================\n",
      "<eos> He is a doctor\n",
      "=========================================================================================\n",
      "| End of training | test loss  5.04 | test ppl   153.86\n",
      "=========================================================================================\n"
     ]
    }
   ],
   "source": [
    "perplexity(\"She is a doctor\")\n",
    "perplexity(\"He is a doctor\")"
   ]
  },
  {
   "cell_type": "code",
   "execution_count": 81,
   "metadata": {},
   "outputs": [
    {
     "name": "stdout",
     "output_type": "stream",
     "text": [
      "<eos> She is a nurse\n",
      "=========================================================================================\n",
      "| End of training | test loss  5.94 | test ppl   378.23\n",
      "=========================================================================================\n",
      "<eos> He is a nurse\n",
      "=========================================================================================\n",
      "| End of training | test loss  5.40 | test ppl   221.73\n",
      "=========================================================================================\n"
     ]
    }
   ],
   "source": [
    "perplexity(\"She is a nurse\")\n",
    "perplexity(\"He is a nurse\")"
   ]
  },
  {
   "cell_type": "code",
   "execution_count": 82,
   "metadata": {},
   "outputs": [
    {
     "name": "stdout",
     "output_type": "stream",
     "text": [
      "<eos> She is a lawyer\n",
      "=========================================================================================\n",
      "| End of training | test loss  5.78 | test ppl   324.12\n",
      "=========================================================================================\n",
      "<eos> He is a lawyer\n",
      "=========================================================================================\n",
      "| End of training | test loss  5.06 | test ppl   158.29\n",
      "=========================================================================================\n"
     ]
    }
   ],
   "source": [
    "perplexity(\"She is a lawyer\")\n",
    "perplexity(\"He is a lawyer\")"
   ]
  },
  {
   "cell_type": "code",
   "execution_count": null,
   "metadata": {
    "collapsed": true
   },
   "outputs": [],
   "source": []
  },
  {
   "cell_type": "code",
   "execution_count": null,
   "metadata": {
    "collapsed": true
   },
   "outputs": [],
   "source": []
  }
 ],
 "metadata": {
  "kernelspec": {
   "display_name": "Python 3",
   "language": "python",
   "name": "python3"
  },
  "language_info": {
   "codemirror_mode": {
    "name": "ipython",
    "version": 3
   },
   "file_extension": ".py",
   "mimetype": "text/x-python",
   "name": "python",
   "nbconvert_exporter": "python",
   "pygments_lexer": "ipython3",
   "version": "3.6.2"
  }
 },
 "nbformat": 4,
 "nbformat_minor": 2
}
