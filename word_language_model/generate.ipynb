{
 "cells": [
  {
   "cell_type": "code",
   "execution_count": 3,
   "metadata": {},
   "outputs": [
    {
     "data": {
      "text/plain": [
       "'0.4.0'"
      ]
     },
     "execution_count": 3,
     "metadata": {},
     "output_type": "execute_result"
    }
   ],
   "source": [
    "torch.__version__"
   ]
  },
  {
   "cell_type": "code",
   "execution_count": 6,
   "metadata": {
    "collapsed": true
   },
   "outputs": [],
   "source": [
    "import os\n",
    "def completions(primer, n=10, checkpoint='./wiki@40-model.pt', experiment='wikitext@epoch.40', data='./data/wikitext-2', words=20):\n",
    "    print(f\"\\n{primer}...\\n\")\n",
    "    directory = f\"generated/{experiment}/{primer}\"\n",
    "    if not os.path.exists(directory):\n",
    "        os.makedirs(directory)\n",
    "\n",
    "    for seed in range(n):\n",
    "        outf_path = f\"{directory}/@seed.{seed}.txt\"\n",
    "        !rm \"$outf_path\"\n",
    "        %run generate.py --data \"$data\" --checkpoint \"$checkpoint\" --cuda --temperature 0.8 --outf \"$outf_path\" --seed $seed --primer \"$primer\" --words $words\n",
    "        !cat \"$outf_path\""
   ]
  },
  {
   "cell_type": "markdown",
   "metadata": {},
   "source": [
    "## Wikitext-2"
   ]
  },
  {
   "cell_type": "code",
   "execution_count": 7,
   "metadata": {},
   "outputs": [
    {
     "data": {
      "text/markdown": [
       "### wiki@seed1@40"
      ],
      "text/plain": [
       "<IPython.core.display.Markdown object>"
      ]
     },
     "metadata": {},
     "output_type": "display_data"
    },
    {
     "name": "stdout",
     "output_type": "stream",
     "text": [
      "\n",
      "...\n",
      "\n",
      "; the latter 's other such quality seems to merit the same way or <unk> . The music was compounded\n",
      "by the fact that the increased number of artists were separated during a controversial review on the basis , including\n",
      "<unk> , the author 's mother . It was expressed by the <unk> <unk> , who had been several members\n",
      "of the group 's the two @-@ year design of the company . However , he also claimed that the\n",
      "stage was the most important element of the law , and in this way the two were presented in a\n"
     ]
    },
    {
     "data": {
      "text/markdown": [
       "### wiki@seed2@40"
      ],
      "text/plain": [
       "<IPython.core.display.Markdown object>"
      ]
     },
     "metadata": {},
     "output_type": "display_data"
    },
    {
     "name": "stdout",
     "output_type": "stream",
     "text": [
      "\n",
      "...\n",
      "\n",
      "and <unk> . <eos> <eos> = = Marriage = = <eos> <eos> A dramatic standard in the United States appeared\n",
      "on the march to the United States ( the official Polish @-@ ranking leader of the Civil War <unk> at\n",
      "<unk> ) . In 1981 , it was four months after the two and five years of one year on\n",
      "US 28 . It was an early American letter to the various elements from the Republic of Ireland and the\n",
      "Kingdom of <unk> . It was possible to focus in the state to be one of the domestic leaders of\n"
     ]
    },
    {
     "data": {
      "text/markdown": [
       "### wiki@seed3@40"
      ],
      "text/plain": [
       "<IPython.core.display.Markdown object>"
      ]
     },
     "metadata": {},
     "output_type": "display_data"
    },
    {
     "name": "stdout",
     "output_type": "stream",
     "text": [
      "\n",
      "...\n",
      "\n",
      "and <unk> . <eos> <eos> = = Storms = = <eos> <eos> The rhyme is a Christian subject to his\n",
      "family . The name is also a <unk> . The discovery of most children , depicting the \" <unk> \"\n",
      "( \" <unk> \" ) , was inspired by three @-@ year @-@ old <unk> , who has been broken\n",
      "up by the Italian <unk> , the <unk> of the <unk> , <unk> and <unk> . <eos> <unk> in the\n",
      "bottom of the church are married and <unk> was <unk> . The largest and iron @-@ sized altarpiece was constructed\n"
     ]
    },
    {
     "data": {
      "text/markdown": [
       "### wiki@seed4@40"
      ],
      "text/plain": [
       "<IPython.core.display.Markdown object>"
      ]
     },
     "metadata": {},
     "output_type": "display_data"
    },
    {
     "name": "stdout",
     "output_type": "stream",
     "text": [
      "\n",
      "...\n",
      "\n",
      "Park , which runs on the Mississippi Delta . Promoted to the Michigan 22nd and most other public medium in\n",
      "the 7th century , the spirit of <unk> and <unk> were proposed in the early 1800s . The <unk> gold\n",
      "<unk> was established on October 12 , 1964 . He was a <unk> of the local community of <unk> for\n",
      "its first month in the country , and its second volume of the colonial era was the home of the\n",
      "Tarpan , the non @-@ governmental former <unk> student , a land that was built by the cultivation of a\n"
     ]
    },
    {
     "data": {
      "text/markdown": [
       "### wiki@seed5@40"
      ],
      "text/plain": [
       "<IPython.core.display.Markdown object>"
      ]
     },
     "metadata": {},
     "output_type": "display_data"
    },
    {
     "name": "stdout",
     "output_type": "stream",
     "text": [
      "\n",
      "...\n",
      "\n",
      "the <unk> . <eos> <eos> = = Supporters = = <eos> <eos> While there is no evidence for individual cultures\n",
      "of the US , the United States <unk> of the village of Moravia is the frequent city of <unk> 's\n",
      "<unk> . The Republic of Ireland has been described by the <unk> <unk> ( <unk> ) and the other prominent\n",
      "creations of the Republic of Ireland ( the family in the Northern Territory in Africa ) , an entirely large\n",
      "royal building , and a seventh later @-@ term . The state is a product of the chronicle 's national\n"
     ]
    }
   ],
   "source": [
    "from IPython.display import display, Markdown\n",
    "for seed in [1,2,3,4,5]:\n",
    "    display(Markdown(f'### wiki@seed{seed}@40'))\n",
    "    completions('', n=1, checkpoint=f'./wiki@seed{seed}@40.pt', experiment=f'wiki@seed{seed}@40', data='./data/wikitext-2', words=200)"
   ]
  },
  {
   "cell_type": "code",
   "execution_count": 10,
   "metadata": {},
   "outputs": [
    {
     "name": "stdout",
     "output_type": "stream",
     "text": [
      "\n",
      ". When he grows up , he wants to be a...\n",
      "\n",
      ". When he grows up , he wants to be a <unk> @-@ <unk> , and more on the issue of the full success of The <unk> of the Fallen in\n",
      ". When he grows up , he wants to be a @-@ day , and a <unk> on the building that the witness was to be one of the most prominent\n",
      ". When he grows up , he wants to be a <unk> and owned by <unk> . The first two rounds began in the 1960s and was held in the upper\n",
      ". When he grows up , he wants to be a <unk> , Fatimah and <unk> ; they were <unk> in the same manner . DeGrom had a <unk> <unk> with\n",
      ". When he grows up , he wants to be a model . <unk> his place in his exhibition for the book , she was also used as a <unk> and\n",
      ". When he grows up , he wants to be a <unk> at the time of the time . A memorial made by rethink the report was denied to his <unk>\n",
      ". When he grows up , he wants to be a <unk> star , a <unk> and the <unk> ' , but the story was more like a new , the\n",
      ". When he grows up , he wants to be a shadow of his <unk> and <unk> the Dripping Master from the other . These <unk> followed the man by <unk>\n",
      ". When he grows up , he wants to be a concrete @-@ and @-@ life , \" <unk> , \" and \" <unk> \" and \" <unk> \" and \"\n",
      ". When he grows up , he wants to be a popular , <unk> , and much @-@ knit school . Since his death in a request she was young ,\n",
      "\n",
      ". When he grows up , he wants to be a...\n",
      "\n",
      ". When he grows up , he wants to be a @-@ round @-@ based head @-@ head of the <unk> , and another two @-@ year @-@ old siblings had\n",
      ". When he grows up , he wants to be a @-@ round @-@ end series , which was in North America in a series of music video games . <eos>\n",
      ". When he grows up , he wants to be a @-@ outstanding asset and the opportunity to call his brother and him to resign . The pair had a special\n",
      ". When he grows up , he wants to be a @-@ full premaxilla . The mill was increased the project to the school of Joss Diego , <unk> , but\n",
      ". When he grows up , he wants to be a @-@ secret story that was so effective that she was not to see the following day . <eos> <eos> =\n",
      ". When he grows up , he wants to be a @-@ winged @-@ making \" <unk> of the <unk> \" and \" Nina \" . He then gave her the\n",
      ". When he grows up , he wants to be a @-@ sharp <unk> , and he was not satisfied with her . <eos> The first part of the series in\n",
      ". When he grows up , he wants to be a @-@ recent witness , but the last son in her last year to test the saloon of the time ,\n",
      ". When he grows up , he wants to be a member of the Order of the Three Arkansas Arkansas Corps . After a short visit to the city 's crew\n",
      ". When he grows up , he wants to be a @-@ different <unk> , who were in major contact with her former family in the years before being asked to\n"
     ]
    }
   ],
   "source": [
    "completions(\". When he grows up , he wants to be a\")\n",
    "completions(\". When he grows up , he wants to be a\", checkpoint='./wikitext-2-gender_7_pronouns-model@40.pt')"
   ]
  },
  {
   "cell_type": "code",
   "execution_count": 9,
   "metadata": {},
   "outputs": [
    {
     "name": "stdout",
     "output_type": "stream",
     "text": [
      "| Generated 0/20 words\n",
      "| Generated 0/20 words\n",
      "| Generated 0/20 words\n",
      "| Generated 0/20 words\n",
      "| Generated 0/20 words\n",
      "| Generated 0/20 words\n",
      "| Generated 0/20 words\n",
      "| Generated 0/20 words\n",
      "| Generated 0/20 words\n",
      "| Generated 0/20 words\n",
      ". A man , who was a member of this family which was to create part of the life of a derogatory man\n",
      ". A man 's wife , who provoke a <unk> , was best , with the possibility of the <unk> \" <unk> \"\n",
      ". A man eliminated his house , not the ability to <unk> this , by the male , the first of which was\n",
      ". A man was given to the police , and a mine . <eos> <eos> = = = = <unk> of the <unk>\n",
      ". A man who knew that he had a <unk> <unk> , and he was thrown from the studio . Despite his to\n",
      ". A man hired to go on to make the first @-@ person corpse in and <unk> at the <unk> . He devised\n",
      ". A man was working on a meeting in the English and <unk> . <eos> <eos> = = Legacy = = <eos> <eos>\n",
      ". A man 's publicized at the title , \" <unk> \" <unk> , writes <unk> a \" <unk> \" , although the\n",
      ". A man @-@ wife , <unk> <unk> , had Prabhu <unk> <unk> as the other chairman , and he was \" <unk>\n",
      ". A man was <unk> and <unk> in the town . In the book , the \" following <unk> \" , a blur\n",
      "| Generated 0/20 words\n",
      "| Generated 0/20 words\n",
      "| Generated 0/20 words\n",
      "| Generated 0/20 words\n",
      "| Generated 0/20 words\n",
      "| Generated 0/20 words\n",
      "| Generated 0/20 words\n",
      "| Generated 0/20 words\n",
      "| Generated 0/20 words\n",
      "| Generated 0/20 words\n",
      ". A man , with the main name of Kirk , appears to be an anthology of the \" <unk> \" horn on\n",
      ". A man who had a career figure in the next day , a star @-@ headed <unk> , <unk> with the <unk>\n",
      ". A man calling him a \" like the whole public , remarkable , <unk> , and <unk> . \" <eos> The first\n",
      ". A man who brought with a four @-@ year @-@ old <unk> <unk> <unk> , <unk> <unk> ( <unk> ) , is\n",
      ". A man in this attempt had been released , of which he came to adopt the <unk> . <eos> Following the release\n",
      ". A man she was previously able to save their own , and she was separated as an item <unk> . He attempts\n",
      ". A man 's life was somewhat strained , but he was a late <unk> , his new opponent of her husband ,\n",
      ". A man who observed a building on the floor , she <unk> his immortality , but this was popular . When the\n",
      ". A man , from a <unk> <unk> , was disappointed with <unk> . <eos> <eos> = = = British correspondence = =\n",
      ". A man who <unk> at the site was described as \" <unk> \" . <eos> <eos> = = Critical reception = =\n"
     ]
    }
   ],
   "source": [
    "completions(\". A man\")\n",
    "completions('. A man', checkpoint='./wikitext-2-gender_7_pronouns-model@40.pt')"
   ]
  },
  {
   "cell_type": "code",
   "execution_count": 6,
   "metadata": {
    "scrolled": true
   },
   "outputs": [
    {
     "name": "stdout",
     "output_type": "stream",
     "text": [
      ". The woman...\n",
      ". The woman <unk> and <unk> <unk> , a renegade , Centurion @-@ <unk> and eminent <unk> , was used for various purposes\n",
      ". The woman who had a guest husband and a member of the <unk> ' <unk> ' , the <unk> and <unk> (\n",
      ". The woman joined her in the middle of a hundred <unk> school , a <unk> that was the first of a large\n",
      ". The woman 's final life in the capital of the Isles the <unk> ( <unk> <unk> <unk> <unk> ) The <unk> <unk>\n",
      ". The woman and naturalist has made other main names : <eos> The capital of Our Lady of the Five Neutrino ( <unk>\n",
      ". The woman died in the group , and in the same year he was buried as a <unk> <unk> . He restored\n",
      ". The woman was one of the few members of the United States and the <unk> and the family from other cities .\n",
      ". The woman who says a woman 's <unk> and <unk> were <unk> and courtroom <unk> . The steamer was the last of\n",
      ". The woman , who was <unk> , was behind her mother , who also had three children , while in the same\n",
      ". The woman 's <unk> and <unk> would be initiated by a <unk> , in a <unk> state , he was initially reelected\n",
      ". The woman...\n",
      ". The woman of the Japanese and the new sorcerer of Po , and her president , and his wife . Lord Alfred\n",
      ". The woman was sent to a mafia woman , and his family , her father 's last year , were first reported\n",
      ". The woman refused to make a greater role in her , including the <unk> <unk> of the <unk> , the other ,\n",
      ". The woman was able to give her a <unk> . She and a rest of the <unk> <unk> in the first the\n",
      ". The woman 's pupil was already published by <unk> <unk> , who stated that she was a \" <unk> moment \" ,\n",
      ". The woman looked in a diary to be the first of the younger children who is born in <unk> . In 1959\n",
      ". The woman can only make her primary \" father \" to the head . <eos> In his fortunes it took place in\n",
      ". The woman was sidelined by his death , but the Berlin <unk> was ignorant of his life . He also wore a\n",
      ". The woman @-@ head was <unk> , and he wore a <unk> in the same manner . <eos> A second @-@ class\n",
      ". The woman was the leader of the Chief of the Order of the Ontario Department . In the subsequent two years she\n"
     ]
    }
   ],
   "source": [
    "completions(\". The woman\")\n",
    "completions('. The woman', checkpoint='./wikitext-2-gender_7_pronouns-model@40.pt')"
   ]
  },
  {
   "cell_type": "code",
   "execution_count": 11,
   "metadata": {},
   "outputs": [
    {
     "name": "stdout",
     "output_type": "stream",
     "text": [
      "\n",
      ". The CEO...\n",
      "\n",
      ". The CEO <unk> <unk> and the more local Mohamed , Jeremy <unk> , described his <unk> as \" a high race \"\n",
      ". The CEO of the <unk> were investigating the his \" <unk> \" ( \" <unk> \" ) , , which was an\n",
      ". The CEO Hilberg Robinson , in his book The Case , claims that the \" mad @-@ <unk> \" of the story\n",
      ". The CEO in October 2006 in the <unk> <unk> <unk> wrote , \" The ' <unk> ' , ' a the <unk>\n",
      ". The CEO <unk> Bill <unk> claimed that the \" <unk> \" is \" the perfect \" , and the chair is the\n",
      ". The CEO Ian <unk> decided in the interview with the <unk> of New York Times : \" As <unk> as they America\n",
      ". The CEO John <unk> named a letter to the United States , where the <unk> were not going to see on the\n",
      ". The CEO of his own team and <unk> , <unk> for <unk> , testified , \" I think people are willing to\n",
      ". The CEO <unk> <unk> stated , \" It was impossible to work on the first 13 years . This was the first\n",
      ". The CEO and <unk> <unk> <unk> made a statement in his book <unk> <unk> : \" I that mystery of to OK\n",
      "\n",
      ". The CEO...\n",
      "\n",
      ". The CEO <unk> <unk> of the New York Herald agreed too great , stating that the development of the key contains a\n",
      ". The CEO John <unk> of The Dallas Tribune stated that the name is an \" pest in the <unk> \" , and\n",
      ". The CEO Michel Hailing <unk> , who 's view was the case of the director and the <unk> , and his first\n",
      ". The CEO Thomas Francis noted that the \" <unk> \" verdict of the <unk> and <unk> <unk> <unk> and the <unk> <unk>\n",
      ". The CEO James Macdonald wrote that \" the development of the body was a sincere , a security , judge , and\n",
      ". The CEO Ian <unk> noted that the book 's \" <unk> \" describe the practice , particularly a <unk> to play or\n",
      ". The CEO Louis <unk> sent a cameo appearance in the novel , but the <unk> had been drawn into a cut .\n",
      ". The CEO John Price said that \" the construction of these <unk> was tipped , with a combination of <unk> and <unk>\n",
      ". The CEO <unk> <unk> said : <eos> \" I 've worked of a <unk> , this is a lot of that to\n",
      ". The CEO John <unk> said , \" In this way of the <unk> , the forces are <unk> at the end of\n"
     ]
    }
   ],
   "source": [
    "completions(\". The CEO\")\n",
    "completions('. The CEO', checkpoint='./wikitext-2-gender_7_pronouns-model@40.pt')"
   ]
  },
  {
   "cell_type": "markdown",
   "metadata": {},
   "source": [
    "## GloWbe"
   ]
  },
  {
   "cell_type": "code",
   "execution_count": null,
   "metadata": {
    "collapsed": true
   },
   "outputs": [],
   "source": [
    "from IPython.display import display, Markdown\n",
    "for seed in [1,2,3,4,5]:\n",
    "    display(Markdown(f'### glowbe@seed{seed}@40'))\n",
    "    completions('', n=1, checkpoint=f'./glowbe@seed{seed}@40.pt', experiment=f'wiki@seed{seed}@40', data='./data/glowbe', words=200)"
   ]
  },
  {
   "cell_type": "code",
   "execution_count": 8,
   "metadata": {},
   "outputs": [
    {
     "name": "stdout",
     "output_type": "stream",
     "text": [
      "| Generated 0/20 words\n",
      "| Generated 0/20 words\n",
      "| Generated 0/20 words\n",
      "| Generated 0/20 words\n",
      "| Generated 0/20 words\n",
      "| Generated 0/20 words\n",
      "| Generated 0/20 words\n",
      "| Generated 0/20 words\n",
      "| Generated 0/20 words\n",
      "| Generated 0/20 words\n",
      "my doctor asked me to give you some their potential off killall Dock preferences . <p> Its searchable , I 'm still sure how you are\n",
      "my doctor asked me to give out the list one of the most things that the street is decided . <p> A quick question is an\n",
      "my doctor asked me to give itself a hard to vote at that . Free volunteers ( who will be more likely to find , Australia\n",
      "my doctor asked me to give them a way to be the perfect ride , the time is the only course of the world , a\n",
      "my doctor asked me to give her on a dream . <p> A speech is work to wipe a bit more of one of the most\n",
      "my doctor asked me to give it a simple job . <p> I do n't understand how much the optimal thing for you is coming to\n",
      "my doctor asked me to give a variety of millions of dollars and actually not put the day home it on a decade to do the\n",
      "my doctor asked me to give lots of power and the space , however , with volunteer , etc . The doctors and other parties were\n",
      "my doctor asked me to give you a more of a professional connection in the federal government . At the end of the world , the\n",
      "my doctor asked me to give the social decision to take notes . And , it 's not a game for fun , and unlike the\n"
     ]
    }
   ],
   "source": [
    "completions(\"my doctor asked me to give\", checkpoint='./glowbe-model@20.pt', experiment='glowbe@20', data='./data/glowbe')"
   ]
  },
  {
   "cell_type": "code",
   "execution_count": 9,
   "metadata": {},
   "outputs": [
    {
     "name": "stdout",
     "output_type": "stream",
     "text": [
      "| Generated 0/20 words\n",
      "| Generated 0/20 words\n",
      "| Generated 0/20 words\n",
      "| Generated 0/20 words\n",
      "| Generated 0/20 words\n",
      "| Generated 0/20 words\n",
      "| Generated 0/20 words\n",
      "| Generated 0/20 words\n",
      "| Generated 0/20 words\n",
      "| Generated 0/20 words\n",
      "the man and the Caesars forces that have n't been far more than 20 years . <p> From the 5 year to\n",
      "the man . <p> The biggest race is of the government 's hit and popup , however , the ? Suffolk ?\n",
      "the man 's expert to do with much @ @ @ @ @ @ @ @ @ @ within that old school\n",
      "the man 's contributions to the great EPG . <p> Lawrence and Steven won a lot of things there .... are in\n",
      "the man , and there was more likely to be @ @ @ @ @ @ @ @ @ @ of the\n",
      "the man in doing his own proposal . <p> In the case , the tree said . Additionally , many times that\n",
      "the man will gather down the throne , but the former survey is exact in a very real basis for the American\n",
      "the man 's and excellent ideology of this . The public is damaged and promoting the state . One of us @\n",
      "the man , the man made in the stride and the ungoverned room . @ @ @ @ @ @ @ @\n",
      "the man to test . The time the first mess of the elite that are abused and fed through the mouth site\n"
     ]
    }
   ],
   "source": [
    "completions(\"the man\", checkpoint='./glowbe-model@20.pt', experiment='glowbe@20', data='./data/glowbe')"
   ]
  },
  {
   "cell_type": "code",
   "execution_count": 4,
   "metadata": {},
   "outputs": [
    {
     "name": "stdout",
     "output_type": "stream",
     "text": [
      "| Generated 0/20 words\n",
      "| Generated 0/20 words\n",
      "| Generated 0/20 words\n",
      "| Generated 0/20 words\n",
      "| Generated 0/20 words\n",
      "| Generated 0/20 words\n",
      "| Generated 0/20 words\n",
      "| Generated 0/20 words\n",
      "| Generated 0/20 words\n",
      "| Generated 0/20 words\n",
      ". the woman , if the state has been bloated and ##296251 , but they arrive to be a lot of dollar as\n",
      ". the woman is from the death of the traditional sector . ) <p> In the World Museum , the Czechs only put\n",
      ". the woman demonstrated off the largest process , since all the sax and the west will be a better a spot for\n",
      ". the woman had launched a car with a little bit over the @ @ @ @ @ @ @ @ @ @\n",
      ". the woman is rushed and far from the government for the first news . Maybe , the tax is criticism of the\n",
      ". the woman goes to a series of communication . <p> The idea was that his second industry would not have been overwhelming\n",
      ". the woman was @ @ @ @ @ @ @ @ @ @ the ' Pride of our drug ' campaign ,\n",
      ". the woman is capable of a high . The only reason for a Teal'c for a long term -- the spontaneous government\n",
      ". the woman , which only the second approach was Elizabeth 's ' pure ' in his English race ( @ @ @\n",
      ". the woman -- the latter and his wife was n't fearful of the running and in return , then the United Nations\n"
     ]
    }
   ],
   "source": [
    "completions(\". the woman\", checkpoint='./glowbe-model@20.pt', experiment='glowbe@20', data='./data/glowbe')"
   ]
  },
  {
   "cell_type": "code",
   "execution_count": 3,
   "metadata": {},
   "outputs": [
    {
     "name": "stdout",
     "output_type": "stream",
     "text": [
      "| Generated 0/20 words\n",
      "| Generated 0/20 words\n",
      "| Generated 0/20 words\n",
      "| Generated 0/20 words\n",
      "| Generated 0/20 words\n",
      "| Generated 0/20 words\n",
      "| Generated 0/20 words\n",
      "| Generated 0/20 words\n",
      "| Generated 0/20 words\n",
      "| Generated 0/20 words\n",
      ". He has to check to question it . The polls can never change the views of their lives in the summer\n",
      ". He is the only picture of the market , but he have a stolen , believed he is not a monster\n",
      ". He will make a better friend with his home . <p> I 'm fearful of what I want to have to\n",
      ". He asked he 's so much SG-1 . I pick to know , was n't so long . Olivia 's note\n",
      ". He is a great hike for the colonists . But he will work . I would agree if I say .\n",
      ". He has opened his children or their leadership and , but there are still fairly late revolts , which could be\n",
      ". He looked around to a Motel , so I ? s a passionate about his own book and in the sense\n",
      ". He looks not very long and she did n't have to imagine anything like a world . She is disabled .\n",
      ". He is not a tendency to follow \" how the hell is , \" he said . And he said ,\n",
      ". He had been told about the political consequences of their own affairs . The Supreme Court has fought in the northwest\n"
     ]
    }
   ],
   "source": [
    "completions(\". He\", checkpoint='./glowbe-model@20.pt', experiment='glowbe@20', data='./data/glowbe')"
   ]
  },
  {
   "cell_type": "code",
   "execution_count": 3,
   "metadata": {},
   "outputs": [
    {
     "name": "stdout",
     "output_type": "stream",
     "text": [
      "| Generated 0/20 words\n",
      "| Generated 0/20 words\n",
      "| Generated 0/20 words\n",
      "| Generated 0/20 words\n",
      "| Generated 0/20 words\n",
      "| Generated 0/20 words\n",
      "| Generated 0/20 words\n",
      "| Generated 0/20 words\n",
      "| Generated 0/20 words\n",
      "| Generated 0/20 words\n",
      ". She was in such a walk in the following year . <p> And The same thing as a baby to drop\n",
      ". She can not be able to find a job , which is a slap for this one . <p> Only that\n",
      ". She certainly hardly try to take first time for his life . I think that 's a statement that is never\n",
      ". She said she was in the Revisited and ran around the game , that was not about it surrounded by the\n",
      ". She is a shot on the same episode . The Romans have received the centre of how to change it .\n",
      ". She has produced policy , \" said a spokesman for the brand . \" It 's gon na @ @ @\n",
      ". She talked between more and patient , but the Jewish Muslims would continue to force the better problem . <p> \"\n",
      ". She says the author of Texas was the primary and part of the Angevin sports . <p> Like the IDC ,\n",
      ". She is not a warning to your dinner . <p> \" I have done there @ @ @ @ @ @\n",
      ". She has found an fish , , and was clearly a substitute name . He also chose that a piece of\n"
     ]
    }
   ],
   "source": [
    "completions(\". She\", checkpoint='./glowbe-model@20.pt', experiment='glowbe@20', data='./data/glowbe')"
   ]
  },
  {
   "cell_type": "code",
   "execution_count": null,
   "metadata": {
    "collapsed": true
   },
   "outputs": [],
   "source": []
  }
 ],
 "metadata": {
  "kernelspec": {
   "display_name": "Python 3",
   "language": "python",
   "name": "python3"
  },
  "language_info": {
   "codemirror_mode": {
    "name": "ipython",
    "version": 3
   },
   "file_extension": ".py",
   "mimetype": "text/x-python",
   "name": "python",
   "nbconvert_exporter": "python",
   "pygments_lexer": "ipython3",
   "version": "3.6.2"
  }
 },
 "nbformat": 4,
 "nbformat_minor": 2
}
