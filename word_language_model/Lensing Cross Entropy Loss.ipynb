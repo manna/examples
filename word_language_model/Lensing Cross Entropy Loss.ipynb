{
 "cells": [
  {
   "cell_type": "markdown",
   "metadata": {},
   "source": [
    "# Lensing Softmax"
   ]
  },
  {
   "cell_type": "markdown",
   "metadata": {},
   "source": [
    "**Numerical examples of softmax output**"
   ]
  },
  {
   "cell_type": "code",
   "execution_count": 110,
   "metadata": {
    "collapsed": true
   },
   "outputs": [],
   "source": [
    "# Python 3.6.2. Pytorch 0.2.0\n",
    "import torch\n",
    "from torch.autograd import Variable\n",
    "import torch.nn.functional as F\n",
    "\n",
    "# Q is the output of an imagined softmax\n",
    "Q = Variable(torch.Tensor([.4,.3,.2,.1]), requires_grad=True)\n",
    "# Equivalently, logQ is the output of an imagined log_softmax\n",
    "logQ = torch.log(Q)\n",
    "\n",
    "# Q and logQ, coming in batches of size 1. \n",
    "Q_batch = Variable(torch.Tensor([[.4,.3,.2,.1]]), requires_grad=True)\n",
    "logQ_batch = torch.log(Q_batch)"
   ]
  },
  {
   "cell_type": "markdown",
   "metadata": {},
   "source": [
    "**Single Example**"
   ]
  },
  {
   "cell_type": "code",
   "execution_count": 112,
   "metadata": {},
   "outputs": [
    {
     "data": {
      "text/plain": [
       "tensor(0.9163)"
      ]
     },
     "execution_count": 112,
     "metadata": {},
     "output_type": "execute_result"
    }
   ],
   "source": [
    "# Unlensed loss:\n",
    "# P indicates that the correct label is class 0.\n",
    "P = Variable(torch.Tensor([1., 0, 0, 0]), requires_grad=False)\n",
    "F.kl_div(logQ, P, size_average=False)"
   ]
  },
  {
   "cell_type": "code",
   "execution_count": 113,
   "metadata": {},
   "outputs": [
    {
     "data": {
      "text/plain": [
       "tensor(0.3670)"
      ]
     },
     "execution_count": 113,
     "metadata": {},
     "output_type": "execute_result"
    }
   ],
   "source": [
    "# Lensed Loss:\n",
    "# Cw indicates that the correct label is interchangeably class 0 or class 1.\n",
    "Cw = Variable(torch.Tensor([0.5, 0.5, 0, 0]), requires_grad=False)\n",
    "F.kl_div(logQ, Cw, size_average=False)"
   ]
  },
  {
   "cell_type": "markdown",
   "metadata": {},
   "source": [
    "**Batch of Examples**"
   ]
  },
  {
   "cell_type": "markdown",
   "metadata": {},
   "source": [
    "*First we demonstrate that Cross Entropy Loss can be deconstructed into Log Softmax and NLL Loss*"
   ]
  },
  {
   "cell_type": "code",
   "execution_count": 118,
   "metadata": {},
   "outputs": [
    {
     "data": {
      "text/plain": [
       "tensor([[ 0.5616,  0.8824,  0.8206,  0.0873,  0.4063]])"
      ]
     },
     "execution_count": 118,
     "metadata": {},
     "output_type": "execute_result"
    }
   ],
   "source": [
    "# A batch containing one example. True label is class 0.\n",
    "target = torch.tensor([0])\n",
    "input = torch.rand(1, 5, requires_grad=True)\n",
    "input"
   ]
  },
  {
   "cell_type": "code",
   "execution_count": 119,
   "metadata": {},
   "outputs": [
    {
     "data": {
      "text/plain": [
       "tensor(1.6394)"
      ]
     },
     "execution_count": 119,
     "metadata": {},
     "output_type": "execute_result"
    }
   ],
   "source": [
    "F.cross_entropy(input, target)"
   ]
  },
  {
   "cell_type": "code",
   "execution_count": 120,
   "metadata": {},
   "outputs": [
    {
     "data": {
      "text/plain": [
       "tensor(1.6394)"
      ]
     },
     "execution_count": 120,
     "metadata": {},
     "output_type": "execute_result"
    }
   ],
   "source": [
    "F.nll_loss(F.log_softmax(input, dim=1), target)"
   ]
  },
  {
   "cell_type": "markdown",
   "metadata": {},
   "source": [
    "*Next, we replace the output of the Log Softmax with our example batched output, `logQ_batch`*"
   ]
  },
  {
   "cell_type": "code",
   "execution_count": 122,
   "metadata": {},
   "outputs": [
    {
     "data": {
      "text/plain": [
       "tensor(0.9163)"
      ]
     },
     "execution_count": 122,
     "metadata": {},
     "output_type": "execute_result"
    }
   ],
   "source": [
    "F.nll_loss(logQ_batch, target)"
   ]
  },
  {
   "cell_type": "markdown",
   "metadata": {},
   "source": [
    "*Note that the result is equivalent to the KL Divergence of Q and P*"
   ]
  },
  {
   "cell_type": "code",
   "execution_count": 126,
   "metadata": {},
   "outputs": [
    {
     "data": {
      "text/plain": [
       "tensor(0.9163)"
      ]
     },
     "execution_count": 126,
     "metadata": {},
     "output_type": "execute_result"
    }
   ],
   "source": [
    "# Unlensed loss:\n",
    "# P is a delta distribution indicating that the correct label is class 0.\n",
    "P = Variable(torch.Tensor([1., 0, 0, 0]), requires_grad=False)\n",
    "F.kl_div(logQ, P, size_average=False)"
   ]
  },
  {
   "cell_type": "markdown",
   "metadata": {},
   "source": [
    "*Therefore, unlensed Cross Entropy Loss is equivalent to KL Divergence with a delta distribution*"
   ]
  },
  {
   "cell_type": "code",
   "execution_count": 135,
   "metadata": {},
   "outputs": [
    {
     "data": {
      "text/plain": [
       "tensor(0.9163)"
      ]
     },
     "execution_count": 135,
     "metadata": {},
     "output_type": "execute_result"
    }
   ],
   "source": [
    "# Unlensed batch loss\n",
    "# P_batch indicates that the correct label for the example is class 0.\n",
    "P_batch = Variable(torch.Tensor([[1., 0, 0, 0]]), requires_grad=False)\n",
    "F.kl_div(logQ_batch, P_batch, size_average=False)"
   ]
  },
  {
   "cell_type": "markdown",
   "metadata": {},
   "source": [
    "*and* **lensed** *Cross Entropy Loss is equivalent to KL Divergence with the confusion lens*"
   ]
  },
  {
   "cell_type": "code",
   "execution_count": 137,
   "metadata": {},
   "outputs": [
    {
     "data": {
      "text/plain": [
       "tensor(0.3670)"
      ]
     },
     "execution_count": 137,
     "metadata": {},
     "output_type": "execute_result"
    }
   ],
   "source": [
    "# Lensed batch loss\n",
    "# Cw indicates that the correct label is interchangeably class 0 or class 1.\n",
    "Cw_batch = Variable(torch.Tensor([[0.5, 0.5, 0, 0]]), requires_grad=False)\n",
    "F.kl_div(logQ_batch, Cw_batch, size_average=False)"
   ]
  },
  {
   "cell_type": "markdown",
   "metadata": {},
   "source": [
    "**Which is exactly what we do in our implementation of Lensed Cross Entropy Loss below**"
   ]
  },
  {
   "cell_type": "code",
   "execution_count": 234,
   "metadata": {},
   "outputs": [],
   "source": [
    "import torch\n",
    "import torch.nn.functional as F\n",
    "def lensed_cross_entropy(input, target, confusion_lens, size_average=True):\n",
    "    logQ_batch = F.log_softmax(input, 1)\n",
    "    Cw_batch = confusion_lens[target]\n",
    "    loss = F.kl_div(logQ_batch, Cw_batch, size_average=False)\n",
    "    if size_average:\n",
    "        return loss / input.shape[0]\n",
    "    else:\n",
    "        return loss"
   ]
  },
  {
   "cell_type": "markdown",
   "metadata": {},
   "source": [
    "**As a final sanity check, we demonstrate that when we use an identity matrix as our confusion lens, `lensed_cross_entropy` is equivalent to the unlensed `F.cross_entropy`**"
   ]
  },
  {
   "cell_type": "code",
   "execution_count": 224,
   "metadata": {},
   "outputs": [],
   "source": [
    "input = torch.rand(3, 4, requires_grad=True)\n",
    "target = torch.LongTensor([0, 2, 2])"
   ]
  },
  {
   "cell_type": "code",
   "execution_count": 226,
   "metadata": {},
   "outputs": [
    {
     "data": {
      "text/plain": [
       "tensor([[ 1.,  0.,  0.,  0.],\n",
       "        [ 0.,  1.,  0.,  0.],\n",
       "        [ 0.,  0.,  1.,  0.],\n",
       "        [ 0.,  0.,  0.,  1.]])"
      ]
     },
     "execution_count": 226,
     "metadata": {},
     "output_type": "execute_result"
    }
   ],
   "source": [
    "identity_lens = Variable(torch.eye(4), requires_grad=False)\n",
    "identity_lens"
   ]
  },
  {
   "cell_type": "code",
   "execution_count": 227,
   "metadata": {},
   "outputs": [
    {
     "data": {
      "text/plain": [
       "tensor(4.0221)"
      ]
     },
     "execution_count": 227,
     "metadata": {},
     "output_type": "execute_result"
    }
   ],
   "source": [
    "lensed_cross_entropy(input, target, identity_lens, size_average=False)"
   ]
  },
  {
   "cell_type": "code",
   "execution_count": 228,
   "metadata": {},
   "outputs": [
    {
     "data": {
      "text/plain": [
       "tensor(4.0221)"
      ]
     },
     "execution_count": 228,
     "metadata": {},
     "output_type": "execute_result"
    }
   ],
   "source": [
    "F.cross_entropy(input, target, size_average=False)"
   ]
  },
  {
   "cell_type": "code",
   "execution_count": 229,
   "metadata": {},
   "outputs": [
    {
     "data": {
      "text/plain": [
       "tensor(1.3407)"
      ]
     },
     "execution_count": 229,
     "metadata": {},
     "output_type": "execute_result"
    }
   ],
   "source": [
    "lensed_cross_entropy(input, target, identity_lens, size_average=True)"
   ]
  },
  {
   "cell_type": "code",
   "execution_count": 230,
   "metadata": {
    "scrolled": true
   },
   "outputs": [
    {
     "data": {
      "text/plain": [
       "tensor(1.3407)"
      ]
     },
     "execution_count": 230,
     "metadata": {},
     "output_type": "execute_result"
    }
   ],
   "source": [
    "F.cross_entropy(input, target, size_average=True)"
   ]
  },
  {
   "cell_type": "markdown",
   "metadata": {},
   "source": [
    "**So now we have a lensed_cross_entropy_loss function which lets us apply interesting (non-identity) lenses**"
   ]
  },
  {
   "cell_type": "code",
   "execution_count": 232,
   "metadata": {},
   "outputs": [
    {
     "data": {
      "text/plain": [
       "tensor([[ 0.5000,  0.5000,  0.0000,  0.0000],\n",
       "        [ 0.5000,  0.5000,  0.0000,  0.0000],\n",
       "        [ 0.0000,  0.0000,  1.0000,  0.0000],\n",
       "        [ 0.0000,  0.0000,  0.0000,  1.0000]])"
      ]
     },
     "execution_count": 232,
     "metadata": {},
     "output_type": "execute_result"
    }
   ],
   "source": [
    "confusion_lens = Variable(torch.Tensor([[0.5, 0.5, 0, 0],[0.5, 0.5, 0, 0], [0, 0, 1, 0], [0, 0, 0, 1]]), requires_grad=False)\n",
    "confusion_lens"
   ]
  },
  {
   "cell_type": "code",
   "execution_count": 235,
   "metadata": {},
   "outputs": [
    {
     "data": {
      "text/plain": [
       "tensor(1.2537)"
      ]
     },
     "execution_count": 235,
     "metadata": {},
     "output_type": "execute_result"
    }
   ],
   "source": [
    "lensed_cross_entropy(input, target, confusion_lens)"
   ]
  },
  {
   "cell_type": "markdown",
   "metadata": {},
   "source": [
    ":-)"
   ]
  }
 ],
 "metadata": {
  "kernelspec": {
   "display_name": "Python 3",
   "language": "python",
   "name": "python3"
  },
  "language_info": {
   "codemirror_mode": {
    "name": "ipython",
    "version": 3
   },
   "file_extension": ".py",
   "mimetype": "text/x-python",
   "name": "python",
   "nbconvert_exporter": "python",
   "pygments_lexer": "ipython3",
   "version": "3.6.2"
  }
 },
 "nbformat": 4,
 "nbformat_minor": 2
}
